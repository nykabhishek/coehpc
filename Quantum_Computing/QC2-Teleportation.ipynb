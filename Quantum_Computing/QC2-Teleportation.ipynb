{
 "cells": [
  {
   "cell_type": "code",
   "execution_count": null,
   "metadata": {},
   "outputs": [],
   "source": [
    "from projectq import MainEngine\n",
    "from projectq.ops import All, CNOT, H, Measure, Rz, X, Z\n",
    "from projectq.meta import Dagger, Control\n",
    "from projectq.backends import CircuitDrawer"
   ]
  },
  {
   "cell_type": "code",
   "execution_count": 38,
   "metadata": {},
   "outputs": [],
   "source": [
    "def create_bell_pair(eng):\n",
    "    b1 = eng.allocate_qubit()\n",
    "    b2 = eng.allocate_qubit()\n",
    "    H | b1\n",
    "    CNOT | (b1, b2)\n",
    "    return b1, b2"
   ]
  },
  {
   "cell_type": "code",
   "execution_count": 39,
   "metadata": {},
   "outputs": [],
   "source": [
    "def run_teleport(eng, state_creation_function, verbose=False):\n",
    "    # make a Bell-pair\n",
    "    b1, b2 = create_bell_pair(eng)\n",
    "\n",
    "    # Alice creates a nice state to send\n",
    "    psi = eng.allocate_qubit()\n",
    "    if verbose:\n",
    "        print(\"Alice is creating her state from scratch, i.e., |0>.\")\n",
    "    state_creation_function(eng, psi)\n",
    "\n",
    "    # entangle it with Alice's b1\n",
    "    CNOT | (psi, b1)\n",
    "    if verbose:\n",
    "        print(\"Alice entangled her qubit with her share of the Bell-pair.\")\n",
    "\n",
    "    # measure two values (once in Hadamard basis) and send the bits to Bob\n",
    "    H | psi\n",
    "    Measure | psi\n",
    "    Measure | b1\n",
    "    msg_to_bob = [int(psi), int(b1)]\n",
    "    if verbose:\n",
    "        print(\"Alice is sending the message {} to Bob.\".format(msg_to_bob))\n",
    "\n",
    "    # Bob may have to apply up to two operation depending on the message sent\n",
    "    # by Alice:\n",
    "    with Control(eng, b1):\n",
    "        X | b2\n",
    "    with Control(eng, psi):\n",
    "        Z | b2\n",
    "\n",
    "    # try to uncompute the psi state\n",
    "    if verbose:\n",
    "        print(\"Bob is trying to uncompute the state.\")\n",
    "    with Dagger(eng):\n",
    "        state_creation_function(eng, b2)\n",
    "\n",
    "    # check whether the uncompute was successful. The simulator only allows to\n",
    "    # delete qubits which are in a computational basis state.\n",
    "    del b2\n",
    "    eng.flush()\n",
    "\n",
    "    if verbose:\n",
    "        print(\"Bob successfully arrived at |0>\")"
   ]
  },
  {
   "cell_type": "code",
   "execution_count": 40,
   "metadata": {},
   "outputs": [
    {
     "name": "stdout",
     "output_type": "stream",
     "text": [
      "Alice is creating her state from scratch, i.e., |0>.\n",
      "Alice entangled her qubit with her share of the Bell-pair.\n",
      "Alice is sending the message [0, 0] to Bob.\n",
      "Bob is trying to uncompute the state.\n",
      "Bob successfully arrived at |0>\n"
     ]
    }
   ],
   "source": [
    "# create a main compiler engine with a simulator backend:\n",
    "eng = MainEngine()\n",
    "drawing_engine = CircuitDrawer()\n",
    "# define our state-creation routine, which transforms a |0> to the state\n",
    "# we would like to send. Bob can then try to uncompute it and, if he\n",
    "# arrives back at |0>, we know that the teleportation worked.\n",
    "def create_state(eng, qb):\n",
    "    H | qb\n",
    "    Rz(1.21) | qb\n",
    "\n",
    "# run the teleport and then, let Bob try to uncompute his qubit:\n",
    "run_teleport(eng, create_state, verbose=True)\n",
    "with open(\"QC2_Diagram.tex\", \"w\") as latex_file:\n",
    "    latex_file.write(drawing_engine.get_latex())"
   ]
  },
  {
   "cell_type": "code",
   "execution_count": null,
   "metadata": {},
   "outputs": [],
   "source": [
    "!pdflatex QC2_Diagram.tex"
   ]
  }
 ],
 "metadata": {
  "kernelspec": {
   "display_name": "Python 3",
   "language": "python",
   "name": "python3"
  },
  "language_info": {
   "codemirror_mode": {
    "name": "ipython",
    "version": 3
   },
   "file_extension": ".py",
   "mimetype": "text/x-python",
   "name": "python",
   "nbconvert_exporter": "python",
   "pygments_lexer": "ipython3",
   "version": "3.7.2"
  }
 },
 "nbformat": 4,
 "nbformat_minor": 2
}
